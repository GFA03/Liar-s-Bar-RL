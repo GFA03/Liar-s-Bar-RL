{
 "cells": [
  {
   "cell_type": "code",
   "execution_count": 1,
   "id": "35dee780-d61e-4682-b77d-5c5e5b678e4d",
   "metadata": {
    "ExecuteTime": {
     "end_time": "2025-01-09T07:13:46.558712Z",
     "start_time": "2025-01-09T07:13:46.454299Z"
    }
   },
   "outputs": [],
   "source": [
    "from monte_carlo.mc_env import LiarsBarEdiEnv \n",
    "from qlearn.q_agent import QLearningAgent\n",
    "\n",
    "# Initialize environment and agents\n",
    "num_players = 4\n",
    "env = LiarsBarEdiEnv(num_players=num_players)\n",
    "agents = [QLearningAgent(env) for _ in range(num_players)]  # One agent per player\n",
    "# agent = QLearningAgent(env)\n"
   ]
  },
  {
   "cell_type": "code",
   "execution_count": 2,
   "id": "1c0aaee0",
   "metadata": {
    "ExecuteTime": {
     "end_time": "2025-01-09T07:14:27.511543Z",
     "start_time": "2025-01-09T07:14:27.477689Z"
    }
   },
   "outputs": [
    {
     "name": "stdout",
     "output_type": "stream",
     "text": [
      "Player 0 - Action: [0, 0, 0, 1] - Reward: 10, State: {'hand': [0, 1, 2, 2], 'table_card': 3, 'history': [], 'num_players': 4}\n",
      "Player 1 - Action: [0, 2, 0, 0] - Reward: 20, State: {'hand': [0, 2, 2, 1], 'table_card': 3, 'history': [1], 'num_players': 4}\n",
      "Player 2 - Action: [0, 1, 0, 0] - Reward: 10, State: {'hand': [0, 2, 1, 2], 'table_card': 3, 'history': [1, 2], 'num_players': 4}\n",
      "Player 3 - Action: [0, 0, 1, 0] - Reward: 10, State: {'hand': [2, 1, 1, 1], 'table_card': 3, 'history': [1, 2, 1], 'num_players': 4}\n",
      "Player 0 - Action: [0, 0, 1, 1] - Reward: 20, State: {'hand': [0, 1, 2, 1], 'table_card': 3, 'history': [1, 2, 1, 1], 'num_players': 4}\n",
      "Player 1 - Action: [0, 0, 1, 1] - Reward: 20, State: {'hand': [0, 0, 2, 1], 'table_card': 3, 'history': [1, 2, 1, 1, 2], 'num_players': 4}\n",
      "Player 2 - Action: [0, 1, 1, 0] - Reward: 20, State: {'hand': [0, 1, 1, 2], 'table_card': 3, 'history': [1, 2, 1, 1, 2, 2], 'num_players': 4}\n",
      "Player 3 - Action: [0, 1, 0, 0] - Reward: 10, State: {'hand': [2, 1, 0, 1], 'table_card': 3, 'history': [1, 2, 1, 1, 2, 2, 2], 'num_players': 4}\n",
      "Player 0 - Action: [0, 0, 0, 0] - Reward: 50, State: {'hand': [0, 1, 1, 0], 'table_card': 3, 'history': [1, 2, 1, 1, 2, 2, 2, 1], 'num_players': 4}\n",
      "Episode 1/1 - Total Reward: [80, 40, 30, 20]\n",
      "Training done\n"
     ]
    }
   ],
   "source": [
    "num_episodes = 1\n",
    "\n",
    "# Training loop\n",
    "for episode  in range(num_episodes):\n",
    "    env.reset()\n",
    "    done = False\n",
    "    total_reward = [0, 0, 0, 0]\n",
    "\n",
    "    while not done:\n",
    "        state = env.get_obs()\n",
    "        index = env._current_player_index\n",
    "\n",
    "        action = agents[index].choose_action(state)\n",
    "\n",
    "        next_state, reward, done, _ = env.step(action)\n",
    "\n",
    "        agents[index].learn(state, action, reward, next_state, done)\n",
    "\n",
    "        state = next_state\n",
    "\n",
    "        total_reward[index] += reward\n",
    "\n",
    "        print(f\"Player {index} - Action: {action} - Reward: {reward}, State: {state}\")\n",
    "\n",
    "    print(f\"Episode {episode + 1}/{num_episodes} - Total Reward: {total_reward}\")\n",
    "\n",
    "\n",
    "print(\"Training done\")"
   ]
  }
 ],
 "metadata": {
  "kernelspec": {
   "display_name": ".venv",
   "language": "python",
   "name": "python3"
  },
  "language_info": {
   "codemirror_mode": {
    "name": "ipython",
    "version": 3
   },
   "file_extension": ".py",
   "mimetype": "text/x-python",
   "name": "python",
   "nbconvert_exporter": "python",
   "pygments_lexer": "ipython3",
   "version": "3.12.3"
  }
 },
 "nbformat": 4,
 "nbformat_minor": 5
}
